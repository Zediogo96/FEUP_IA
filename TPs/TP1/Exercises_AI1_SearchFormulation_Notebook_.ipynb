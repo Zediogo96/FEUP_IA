{
 "cells": [
  {
   "cell_type": "markdown",
   "metadata": {},
   "source": [
    "# Artificial Intelligence\n",
    "## L.EIC – 3rd Year/2nd Semester\n",
    "### Exercise Sheet 1\n",
    "# Solving Problems by Searching"
   ]
  },
  {
   "cell_type": "markdown",
   "metadata": {},
   "source": [
    "## The Two Buckets Problem\n",
    "\n",
    "<img src=\"https://qph.cf2.quoracdn.net/main-qimg-45726b16b460cae0147ae8ca245a8fb0-pjlq\" width=\"250px\" height=\"250px\" align=\"right\">\n",
    "\n",
    "Two buckets of capacities **c1** (e.g. 4 liters) and **c2** (e.g. 3 liters), respectively, are initially empty. The buckets do not have any intermediate markings. The only operations you can perform are:\n",
    "\n",
    "- Fill (completely) a bucket \n",
    "- Empty a bucket.\n",
    "- Pour one bucket into the other (until the target one is full or the source one is empty).\n",
    "\n",
    "The aim is to determine which operations to carry out so that the first bucket contains exactly **n** liters (e.g. 2 litres)."
   ]
  },
  {
   "cell_type": "markdown",
   "metadata": {},
   "source": [
    "Formulate this problem as a search problem by defining the state representation, initial state, operators (their name, preconditions, effects, and cost), and objective test."
   ]
  },
  {
   "cell_type": "raw",
   "metadata": {},
   "source": [
    "State Representation: \n",
    "    - W1 [0..4]\n",
    "    - W2 [0..3]\n",
    "Initial State:\n",
    "    [0/0]\n",
    "Objective State:\n",
    "    [2/..] or in a general case [NL/_]\n",
    "Operators:\n",
    "    - Emp1, Emp2, Fill1, Fill2, Pour12a, Pour12b, Pour21a, Pour12b\n",
    "\n",
    "|   Name     |    PreCond    |    Effects    |   Cost    |\n",
    "|--------------------------------------------------------|\n",
    "|   Emp1     |   W1 > 0      |   W1 = 0      |    1      | \n",
    "|   Emp2     |   W2 > 0      |   W2 = 0      |    1      |\n",
    "|   Fill1    |   W1 < 4      |   W1 = 4      |    1      |\n",
    "|   Fill2    |   W2 < 3      |   W2 = 3      |    1      |\n",
    "\n",
    "|   Pour12a  |  W1>0 /\\ W2<3 /\\ W1 >= 3-W2    |   W1 = W1 - (3-W2); W2 = 3  |    1      |\n",
    "|   Pour12b  |  W1 > 0 /\\ W2 < 3 /\\ W1 < 3-W2 |   W2 = W1 + W2; W1 = 0      |    1      |\n",
    "|   Pour21a  |  W2 > 0 /\\ W1 < 4 /\\ W2 >= C1 - W1 |   W2 = W2 - (C1 - W1); W1 = C1      |    1      |\n",
    "|   Pour21b  |  W2 > 0 /\\ W1 < C1 /\\ W2 <= C1 - W1 |   W1 = W1 + W2; W2 = 0             |    1      |"
   ]
  },
  {
   "cell_type": "markdown",
   "metadata": {},
   "source": [
    "What is the size of the state space for this problem? Represent the state space by drawing the possible objective states and displaying some of the possible transitions from the initial state."
   ]
  },
  {
   "cell_type": "raw",
   "metadata": {},
   "source": [
    "# The size of the state space is 5 x 4 = 20."
   ]
  },
  {
   "cell_type": "markdown",
   "metadata": {},
   "source": [
    "Solve the problem by hand, using tree search. What solutions have you found?"
   ]
  },
  {
   "cell_type": "raw",
   "metadata": {},
   "source": [
    "\n",
    "\n"
   ]
  },
  {
   "cell_type": "markdown",
   "metadata": {},
   "source": [
    "### Buildind a computational approach to handle the problem\n",
    "\n",
    "To build a program to solve the buckets problem, we will implement a solution that separates the problem definition from the algorithms used to traverse the state space. This way, we can reuse our implementations of the search strategies in other problems."
   ]
  },
  {
   "cell_type": "markdown",
   "metadata": {},
   "source": [
    "#### Representing the two buckets problem as a search problem\n",
    "\n",
    "Let's start by defining a state for the buckets problem. For that, it'll suffice to aggregate two quantities, each representing the amount of water in one of the buckets. We also define a way of printing the state."
   ]
  },
  {
   "cell_type": "code",
   "execution_count": 1,
   "metadata": {},
   "outputs": [],
   "source": [
    "class BucketState:\n",
    "    c1 = 4   # capacity for bucket 1\n",
    "    c2 = 3   # capacity for bucket 2\n",
    "    \n",
    "    def __init__(self, b1, b2):\n",
    "        self.b1 = b1\n",
    "        self.b2 = b2\n",
    "\n",
    "    '''needed for the visited list'''\n",
    "    def __eq__(self, other):\n",
    "        if isinstance(other, self.__class__):\n",
    "            return self.__dict__ == other.__dict__\n",
    "        else:\n",
    "            return False\n",
    "\n",
    "    def __ne__(self, other):\n",
    "        \"\"\"Overrides the default implementation (unnecessary in Python 3)\"\"\"\n",
    "        return not self.__eq__(other)\n",
    "    \n",
    "    def __hash__(self):\n",
    "        return hash((self.b1, self.b2)) \n",
    "    ''' - '''\n",
    "\n",
    "    def __str__(self):\n",
    "        return \"(\" + str(self.b1) + \", \" + str(self.b2) + \")\""
   ]
  },
  {
   "cell_type": "markdown",
   "metadata": {},
   "source": [
    "Now we define each of the operators on states:"
   ]
  },
  {
   "cell_type": "code",
   "execution_count": 2,
   "metadata": {},
   "outputs": [],
   "source": [
    "# emptying the first bucket\n",
    "def empty1(state):\n",
    "    if state.b1 > 0:\n",
    "        return BucketState(0, state.b2)\n",
    "    return None\n",
    "\n",
    "# emptying the second bucket\n",
    "def empty2(state):\n",
    "    if state.b2 > 0:\n",
    "        return BucketState(state.b1, 0)\n",
    "    return None\n",
    "    \n",
    "# filling the first bucket\n",
    "def fill1(state):\n",
    "    if state.b1 < 4:\n",
    "        return BucketState(4, state.b2)\n",
    "    return None\n",
    "\n",
    "# filling the second bucket\n",
    "def fill2(state):\n",
    "    if state.b2 < 3:\n",
    "        return BucketState(state.b1, 3)\n",
    "    return None\n",
    "\n",
    "# pouring from the first bucket to the second bucket\n",
    "def pour12_fill2(state):\n",
    "    if state.b1 > 0 and state.b2 < BucketState.c2:\n",
    "        if state.b1 + state.b2 > 3:\n",
    "            return BucketState(state.b1 - (BucketState.c2 - state.b2), BucketState.c2)\n",
    "        else:\n",
    "            return BucketState(0, state.b1 + state.b2)\n",
    "    return None\n",
    "\n",
    "def pour12_empty1(state):\n",
    "    if state.b1 > 0 and state.b2 < BucketState.c2:\n",
    "        if state.b1 + state.b2 > BucketState.c2:\n",
    "            return BucketState(0, state.b1 + state.b2)\n",
    "        else:\n",
    "            return BucketState(0, state.b1 + state.b2)\n",
    "    return None\n",
    "\n",
    "# pouring from the second bucket to the first bucket\n",
    "\n",
    "def pour21_fill1(state):\n",
    "    if state.b2 > 0 and state.b1 < 4:\n",
    "        if state.b1 + state.b2 > 4:\n",
    "            return BucketState(4, state.b2 - (4 - state.b1))\n",
    "        else:\n",
    "            return BucketState(state.b1 + state.b2, 0)\n",
    "    return None\n",
    "\n",
    "def pour21_empty2(state):\n",
    "    if state.b2 > 0 and state.b1 < 4:\n",
    "        if state.b1 + state.b2 > 4:\n",
    "            return BucketState(4, state.b2 - (4 - state.b1))\n",
    "        else:\n",
    "            return BucketState(state.b1 + state.b2, 0)\n",
    "    return None"
   ]
  },
  {
   "cell_type": "markdown",
   "metadata": {},
   "source": [
    "The following function will aggregate all states that can be generated from a given one:"
   ]
  },
  {
   "cell_type": "code",
   "execution_count": 22,
   "metadata": {},
   "outputs": [],
   "source": [
    "def child_bucket_states(state):\n",
    "    new_states = []\n",
    "    if(empty1(state)):\n",
    "        new_states.append(empty1(state))\n",
    "    if(empty2(state)):\n",
    "        new_states.append(empty2(state))\n",
    "    if(fill1(state)):\n",
    "        new_states.append(fill1(state))\n",
    "    if(fill2(state)):\n",
    "        new_states.append(fill2(state))\n",
    "    if(pour12_fill2(state)):\n",
    "        new_states.append(pour12_fill2(state))\n",
    "    if(pour12_empty1(state)):\n",
    "        new_states.append(pour12_empty1(state))\n",
    "    if(pour21_fill1(state)):\n",
    "        new_states.append(pour21_fill1(state))\n",
    "    if(pour21_empty2(state)):\n",
    "        new_states.append(pour21_empty2(state))\n",
    "    return new_states"
   ]
  },
  {
   "cell_type": "markdown",
   "metadata": {},
   "source": [
    "Play around with the state transition operators and check if they are working properly:"
   ]
  },
  {
   "cell_type": "code",
   "execution_count": 4,
   "metadata": {},
   "outputs": [
    {
     "name": "stdout",
     "output_type": "stream",
     "text": [
      "(4, 0)\n"
     ]
    },
    {
     "data": {
      "text/plain": [
       "[<__main__.BucketState at 0x7f6cb12219c0>,\n",
       " <__main__.BucketState at 0x7f6cb1220550>]"
      ]
     },
     "execution_count": 4,
     "metadata": {},
     "output_type": "execute_result"
    }
   ],
   "source": [
    "s = BucketState(0, 0)\n",
    "s = fill1(s)\n",
    "print(s)\n",
    "\n",
    "child_bucket_states(BucketState(0, 0))\n",
    "\n",
    "# your code here\n"
   ]
  },
  {
   "cell_type": "markdown",
   "metadata": {},
   "source": [
    "Finally, we need to define the goal condition:"
   ]
  },
  {
   "cell_type": "code",
   "execution_count": 5,
   "metadata": {},
   "outputs": [],
   "source": [
    "def goal_bucket_state(state):\n",
    "    return state.b1 == 2"
   ]
  },
  {
   "cell_type": "markdown",
   "metadata": {},
   "source": [
    "Test your goal condition:"
   ]
  },
  {
   "cell_type": "code",
   "execution_count": 7,
   "metadata": {},
   "outputs": [
    {
     "name": "stdout",
     "output_type": "stream",
     "text": [
      "False\n",
      "False\n",
      "True\n"
     ]
    }
   ],
   "source": [
    "# your code here\n",
    "print(goal_bucket_state(BucketState(0, 2)))\n",
    "print(goal_bucket_state(BucketState(0, 3)))\n",
    "print(goal_bucket_state(BucketState(2, 0)))\n",
    "\n"
   ]
  },
  {
   "cell_type": "markdown",
   "metadata": {},
   "source": [
    "#### Implementing search algorithms\n",
    "\n",
    "Let us start by defining an appropriate structure to represent a node in a search tree. Each tree node will include:\n",
    "- a state of the problem\n",
    "- a link to its parent (to allow traveling from a leaf node towards the root of the tree)\n",
    "- a list of child nodes"
   ]
  },
  {
   "cell_type": "code",
   "execution_count": 30,
   "metadata": {},
   "outputs": [],
   "source": [
    "# A generic definition of a tree node holding a state of the problem\n",
    "class TreeNode:\n",
    "    def __init__(self, state, parent=None):\n",
    "        self.state = state\n",
    "        self.parent = parent\n",
    "        self.children = []\n",
    "        self.depth = 0\n",
    "        \n",
    "        # depth of the node in the tree\n",
    "        if self.parent is None:\n",
    "            self.depth = 0\n",
    "        else:\n",
    "            self.depth = self.parent.depth + 1\n",
    "\n",
    "    def add_child(self, child_node):\n",
    "        self.children.append(child_node)\n",
    "        child_node.parent = self"
   ]
  },
  {
   "cell_type": "markdown",
   "metadata": {},
   "source": [
    "##### Breadth-first search\n",
    "\n",
    "Based on this structure, we can now implement breadth-first search. Note that we want the implementation to be independent of the problem at hand (in this case, the two buckets problem)."
   ]
  },
  {
   "cell_type": "code",
   "execution_count": 9,
   "metadata": {},
   "outputs": [],
   "source": [
    "from collections import deque\n",
    "\n",
    "def breadth_first_search(initial_state, goal_state_func, operators_func):\n",
    "    root = TreeNode(initial_state)   # create the root node in the search tree\n",
    "    queue = deque([root])   # initialize the queue to store the nodes\n",
    "    \n",
    "    while queue:\n",
    "        node = queue.popleft()   # get first element in the queue\n",
    "        if goal_state_func(node.state):   # check goal state\n",
    "            return node\n",
    "        \n",
    "        for state in operators_func(node.state):   # go through next states\n",
    "            # create tree node with the new state\n",
    "            new_node = TreeNode(state, node)\n",
    "            \n",
    "            # link child node to its parent in the tree\n",
    "            new_node.parent = node\n",
    "            \n",
    "            # enqueue the child node\n",
    "            queue.append(new_node)\n",
    "            \n",
    "\n",
    "    return None"
   ]
  },
  {
   "cell_type": "markdown",
   "metadata": {},
   "source": [
    "We can now use this function to actually perform a breadth-first search on the buckets problem: we pass it the initial state, our goal condition function, and the function for obtaining child states."
   ]
  },
  {
   "cell_type": "code",
   "execution_count": 10,
   "metadata": {},
   "outputs": [
    {
     "name": "stdout",
     "output_type": "stream",
     "text": [
      "(2, 3)\n"
     ]
    }
   ],
   "source": [
    "goal = breadth_first_search(BucketState(0,0), \n",
    "                            goal_bucket_state, \n",
    "                            child_bucket_states)\n",
    "print(goal.state)"
   ]
  },
  {
   "cell_type": "markdown",
   "metadata": {},
   "source": [
    "In order to print the actual steps from the initial state to the last, we can take advantage of each node's link to its parent."
   ]
  },
  {
   "cell_type": "code",
   "execution_count": 11,
   "metadata": {},
   "outputs": [],
   "source": [
    "def print_solution(node):\n",
    "    # your code here\n",
    "    print(node.state)\n",
    "    if node.parent is not None:\n",
    "        print_solution(node.parent)\n",
    "    else:\n",
    "        return None\n",
    "    \n",
    "    return"
   ]
  },
  {
   "cell_type": "markdown",
   "metadata": {},
   "source": [
    "Now we can print the solution:"
   ]
  },
  {
   "cell_type": "code",
   "execution_count": 12,
   "metadata": {},
   "outputs": [
    {
     "name": "stdout",
     "output_type": "stream",
     "text": [
      "(2, 3)\n",
      "(4, 1)\n",
      "(0, 1)\n",
      "(1, 0)\n",
      "(1, 3)\n",
      "(4, 0)\n",
      "(0, 0)\n"
     ]
    }
   ],
   "source": [
    "print_solution(goal)"
   ]
  },
  {
   "cell_type": "markdown",
   "metadata": {},
   "source": [
    "If we need a description for each of the employed operators, we could have each operation function return also such a description, and modify the TreeNode class so that each node also includes a description of the edge to get there. We leave that as an exercise after class."
   ]
  },
  {
   "cell_type": "markdown",
   "metadata": {},
   "source": [
    "##### Depth-first search\n",
    "\n",
    "Implement depth-first search (again, in a manner that is independent of the problem at hand). You can start from your breadth-first search implementation and with minor changes get an implementation for depth-first search."
   ]
  },
  {
   "cell_type": "code",
   "execution_count": 21,
   "metadata": {},
   "outputs": [],
   "source": [
    "# your code here\n",
    "\n",
    "def check_state(states, state):\n",
    "    for i in states:\n",
    "        if i.b1 == state.b1 and i.b2 == state.b2:\n",
    "            return False\n",
    "    return True\n",
    "\n",
    "def depth_first_search(initial_state, goal_state_func, operators_func):\n",
    "    # your code here\n",
    "    root = TreeNode(initial_state)   # create the root node in the search tree\n",
    "    queue = deque([root])   # initialize the queue to store the nodes\n",
    "    s = [initial_state]\n",
    "\n",
    "    while queue:\n",
    "        node = queue.pop()   # get first element in the queue\n",
    "        if goal_state_func(node.state):   # check goal state\n",
    "            return node\n",
    "        \n",
    "        for state in operators_func(node.state):   # go through next states\n",
    "            if check_state(s,state):\n",
    "                child_node = TreeNode(state=state,parent=node)\n",
    "                node.add_child(state)\n",
    "                queue.append(child_node)\n",
    "                s.append(state)\n",
    "\n",
    "    return None"
   ]
  },
  {
   "cell_type": "markdown",
   "metadata": {},
   "source": [
    "Test it on the two buckets problem."
   ]
  },
  {
   "cell_type": "code",
   "execution_count": 20,
   "metadata": {},
   "outputs": [
    {
     "name": "stdout",
     "output_type": "stream",
     "text": [
      "(2, 0)\n",
      "(0, 2)\n",
      "(4, 2)\n",
      "(3, 3)\n",
      "(3, 0)\n",
      "(0, 3)\n",
      "(0, 0)\n"
     ]
    }
   ],
   "source": [
    "goal = depth_first_search(BucketState(0,0), \n",
    "                            goal_bucket_state, \n",
    "                            child_bucket_states)\n",
    "print_solution(goal)"
   ]
  },
  {
   "cell_type": "markdown",
   "metadata": {},
   "source": [
    "If you are unable to get a solution, think about it: depth-first search is not a complete search method, and one of the reasons for that is if the state space contains cycles. As such, you need to make sure you avoid entering into a cycle by keeping a visited nodes list or set and checking that list whenever you generate a new state."
   ]
  },
  {
   "cell_type": "markdown",
   "metadata": {},
   "source": [
    "##### Depth-limited search\n",
    "\n",
    "Another way to make it work is to impose a depth limit to the problem. Implement depth-limited search."
   ]
  },
  {
   "cell_type": "code",
   "execution_count": 31,
   "metadata": {},
   "outputs": [],
   "source": [
    "def depth_limited_search(initial_state, goal_state_func, operators_func, depth_limit):\n",
    "    # your code here\n",
    "    root = TreeNode(initial_state)   # create the root node in the search tree\n",
    "    queue = deque([root])   # initialize the queue to store the nodes\n",
    "\n",
    "    while queue:\n",
    "        node = queue.pop()   # get first element in the queue\n",
    "        if goal_state_func(node.state):   # check goal state\n",
    "            return node\n",
    "        \n",
    "        for state in operators_func(node.state):   # go through next states\n",
    "            child_node = TreeNode(state=state,parent=node)\n",
    "            if child_node.depth <= depth_limit:\n",
    "                node.add_child(state)\n",
    "                queue.append(child_node)\n",
    "\n",
    "    return None"
   ]
  },
  {
   "cell_type": "markdown",
   "metadata": {},
   "source": [
    "Test it on the two buckets problem."
   ]
  },
  {
   "cell_type": "code",
   "execution_count": 32,
   "metadata": {},
   "outputs": [
    {
     "name": "stdout",
     "output_type": "stream",
     "text": [
      "(2, 0)\n",
      "(0, 2)\n",
      "(4, 2)\n",
      "(3, 3)\n",
      "(3, 0)\n",
      "(0, 3)\n",
      "(3, 0)\n",
      "(0, 3)\n",
      "(3, 0)\n",
      "(0, 3)\n",
      "(0, 0)\n"
     ]
    }
   ],
   "source": [
    "# your code here\n",
    "goal = depth_limited_search(BucketState(0,0), \n",
    "                            goal_bucket_state, \n",
    "                            child_bucket_states,10)\n",
    "if goal != None:\n",
    "  print_solution(goal)\n",
    "else:\n",
    "  print(\"No solution for this depth\")"
   ]
  },
  {
   "cell_type": "markdown",
   "metadata": {},
   "source": [
    "##### Iterative deepening search\n",
    "\n",
    "Based on depth-limited, you can easily implement iterative-deepening search."
   ]
  },
  {
   "cell_type": "code",
   "execution_count": 35,
   "metadata": {},
   "outputs": [],
   "source": [
    "def iterative_deepening_search(initial_state, goal_state_func, operators_func, depth_limit):\n",
    "    # your code here\n",
    "    for i in range(depth_limit):\n",
    "        goal_node = depth_limited_search(initial_state, goal_state_func, operators_func, i)\n",
    "        if goal_node is not None:\n",
    "            print(\"Solution found at depth: {} \".format(i))\n",
    "            return goal_node\n",
    "    return None"
   ]
  },
  {
   "cell_type": "markdown",
   "metadata": {},
   "source": [
    "Again, test it on the two buckets problem."
   ]
  },
  {
   "cell_type": "code",
   "execution_count": 36,
   "metadata": {},
   "outputs": [
    {
     "name": "stdout",
     "output_type": "stream",
     "text": [
      "Solution found at depth: 6 \n",
      "(2, 0)\n",
      "(0, 2)\n",
      "(4, 2)\n",
      "(3, 3)\n",
      "(3, 0)\n",
      "(0, 3)\n",
      "(0, 0)\n"
     ]
    }
   ],
   "source": [
    "# your code here\n",
    "goal = iterative_deepening_search(BucketState(0,0), \n",
    "                            goal_bucket_state, \n",
    "                            child_bucket_states,10)\n",
    "if goal != None:\n",
    "  print_solution(goal)\n",
    "else:\n",
    "  print(\"No solution for this depth\")"
   ]
  },
  {
   "cell_type": "markdown",
   "metadata": {},
   "source": [
    "## The Missionaries and Cannibals Problem \n",
    "\n",
    "<img src=\"https://allfish24.files.wordpress.com/2016/09/gambar-1.jpg\">\n",
    "\n",
    "Three missionaries and three cannibals are on one of the banks of the river with a boat that only takes one or two people. The boat cannot travel the river alone.\n",
    "\n",
    "The goal is to find a way to get the six to the other bank of the river without ever leaving more cannibals than missionaries on one of the banks (even at the instant they leave/join the boat) during the process."
   ]
  },
  {
   "cell_type": "markdown",
   "metadata": {},
   "source": [
    "Formulate this problem as a search problem by defining the state representation, initial state, operators (their name, preconditions, effects, and cost), and objective test."
   ]
  },
  {
   "cell_type": "raw",
   "metadata": {},
   "source": [
    "\n",
    "\n"
   ]
  },
  {
   "cell_type": "markdown",
   "metadata": {},
   "source": [
    "Solve the problem by hand, using tree search. What solutions have you found?"
   ]
  },
  {
   "cell_type": "raw",
   "metadata": {},
   "source": [
    "\n",
    "\n"
   ]
  },
  {
   "cell_type": "markdown",
   "metadata": {},
   "source": [
    "Represent the problem as a search problem and take advantage of the implemented search algorithms to find solutions!"
   ]
  },
  {
   "cell_type": "code",
   "execution_count": null,
   "metadata": {},
   "outputs": [],
   "source": [
    "# your code here\n"
   ]
  }
 ],
 "metadata": {
  "kernelspec": {
   "display_name": "Python 3",
   "language": "python",
   "name": "python3"
  },
  "language_info": {
   "codemirror_mode": {
    "name": "ipython",
    "version": 3
   },
   "file_extension": ".py",
   "mimetype": "text/x-python",
   "name": "python",
   "nbconvert_exporter": "python",
   "pygments_lexer": "ipython3",
   "version": "3.10.6"
  },
  "vscode": {
   "interpreter": {
    "hash": "916dbcbb3f70747c44a77c7bcd40155683ae19c65e1c03b4aa3499c5328201f1"
   }
  }
 },
 "nbformat": 4,
 "nbformat_minor": 4
}
